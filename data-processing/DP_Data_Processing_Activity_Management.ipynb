{
  "nbformat": 4,
  "nbformat_minor": 0,
  "metadata": {
    "colab": {
      "name": "DP Data Processing - Activity Management",
      "provenance": [],
      "collapsed_sections": []
    },
    "kernelspec": {
      "name": "python3",
      "display_name": "Python 3"
    },
    "language_info": {
      "name": "python"
    }
  },
  "cells": [
    {
      "cell_type": "code",
      "metadata": {
        "colab": {
          "base_uri": "https://localhost:8080/"
        },
        "id": "O51CzleDjBbN",
        "outputId": "337c0f13-3ffe-411d-b491-5042fe53a919"
      },
      "source": [
        "from google.colab import drive\n",
        "drive.mount('/content/drive')"
      ],
      "execution_count": null,
      "outputs": [
        {
          "output_type": "stream",
          "name": "stdout",
          "text": [
            "Drive already mounted at /content/drive; to attempt to forcibly remount, call drive.mount(\"/content/drive\", force_remount=True).\n"
          ]
        }
      ]
    },
    {
      "cell_type": "code",
      "metadata": {
        "id": "y8GVYG9jjUBd"
      },
      "source": [
        "import pandas as pd\n",
        "\n",
        "physical_df = pd.read_csv('/content/drive/My Drive/CS492 DP/Data processing/[final] physical/physical_agg_week.csv')\n",
        "mental_df = pd.read_csv('/content/drive/My Drive/CS492 DP/Data processing/[final] mental/mental_agg_week.csv')\n",
        "social_df = pd.read_csv('/content/drive/My Drive/CS492 DP/Data processing/[final] social/social_agg_week.csv')\n",
        "\n",
        "\n",
        "# overall_df = pd.concat([physical_df['z_Calories'], physical_df['z_Pedometer'], mental_df['z_Valence'], mental_df['z_Arousal'], mental_df['z_Attention'], mental_df['z_Stress'], social_df['z_calllog'], social_df['z_messagelog'], social_df['z_snsprop'], physical_df['z_physical'], mental_df['z_mental'], social_df['z_social']], axis=1)\n",
        "# overall_df['overall_score'] =  (overall_df['z_physical'] + overall_df['z_mental'] + overall_df['z_social']) / 3\n",
        "# overall_change = overall_df.diff(axis=0).iloc[1:, :]\n",
        "\n",
        "# overall_change"
      ],
      "execution_count": null,
      "outputs": []
    },
    {
      "cell_type": "code",
      "metadata": {
        "colab": {
          "base_uri": "https://localhost:8080/",
          "height": 235
        },
        "id": "_TAopgKKbjTN",
        "outputId": "c8d55efe-1569-4fa1-c86d-a323dae1238c"
      },
      "source": [
        "overall_change_ratio = pd.DataFrame([])\n",
        "overall_change_ratio['diff_Calories'] = overall_change['overall_score'] / overall_change['z_Calories']\n",
        "overall_change_ratio['diff_Pedometer'] = overall_change['overall_score'] / overall_change['z_Pedometer']\n",
        "overall_change_ratio['diff_Valence'] = overall_change['overall_score'] / overall_change['z_Valence']\n",
        "overall_change_ratio['diff_Arousal'] = overall_change['overall_score'] / overall_change['z_Arousal']\n",
        "overall_change_ratio['diff_Attention'] = overall_change['overall_score'] / overall_change['z_Attention']\n",
        "overall_change_ratio['diff_Stress'] = overall_change['overall_score'] / overall_change['z_Stress']\n",
        "overall_change_ratio['diff_calllog'] = overall_change['overall_score'] / overall_change['z_calllog']\n",
        "overall_change_ratio['diff_messagelog'] = overall_change['overall_score'] / overall_change['z_messagelog']\n",
        "overall_change_ratio['diff_snsprop'] = overall_change['overall_score'] / overall_change['z_snsprop']\n",
        "overall_change_ratio['diff_physical'] = overall_change['overall_score'] / overall_change['z_physical']\n",
        "overall_change_ratio['diff_mental'] = overall_change['overall_score'] / overall_change['z_mental']\n",
        "overall_change_ratio['diff_social'] = overall_change['overall_score'] / overall_change['z_social']\n",
        "\n",
        "overall_change_ratio"
      ],
      "execution_count": null,
      "outputs": [
        {
          "output_type": "execute_result",
          "data": {
            "text/html": [
              "<div>\n",
              "<style scoped>\n",
              "    .dataframe tbody tr th:only-of-type {\n",
              "        vertical-align: middle;\n",
              "    }\n",
              "\n",
              "    .dataframe tbody tr th {\n",
              "        vertical-align: top;\n",
              "    }\n",
              "\n",
              "    .dataframe thead th {\n",
              "        text-align: right;\n",
              "    }\n",
              "</style>\n",
              "<table border=\"1\" class=\"dataframe\">\n",
              "  <thead>\n",
              "    <tr style=\"text-align: right;\">\n",
              "      <th></th>\n",
              "      <th>diff_Calories</th>\n",
              "      <th>diff_Pedometer</th>\n",
              "      <th>diff_Valence</th>\n",
              "      <th>diff_Arousal</th>\n",
              "      <th>diff_Attention</th>\n",
              "      <th>diff_Stress</th>\n",
              "      <th>diff_calllog</th>\n",
              "      <th>diff_messagelog</th>\n",
              "      <th>diff_snsprop</th>\n",
              "      <th>diff_physical</th>\n",
              "      <th>diff_mental</th>\n",
              "      <th>diff_social</th>\n",
              "    </tr>\n",
              "  </thead>\n",
              "  <tbody>\n",
              "    <tr>\n",
              "      <th>1</th>\n",
              "      <td>-8.047892</td>\n",
              "      <td>0.508501</td>\n",
              "      <td>0.293697</td>\n",
              "      <td>1.260249</td>\n",
              "      <td>0.324437</td>\n",
              "      <td>0.487120</td>\n",
              "      <td>8.928444</td>\n",
              "      <td>-3.145482</td>\n",
              "      <td>-1.793146</td>\n",
              "      <td>1.085594</td>\n",
              "      <td>0.428564</td>\n",
              "      <td>-3.928791</td>\n",
              "    </tr>\n",
              "    <tr>\n",
              "      <th>2</th>\n",
              "      <td>-0.326117</td>\n",
              "      <td>0.610654</td>\n",
              "      <td>0.444741</td>\n",
              "      <td>-8.710540</td>\n",
              "      <td>0.767661</td>\n",
              "      <td>0.448749</td>\n",
              "      <td>0.309608</td>\n",
              "      <td>0.410440</td>\n",
              "      <td>0.814124</td>\n",
              "      <td>-1.399782</td>\n",
              "      <td>0.706119</td>\n",
              "      <td>0.435122</td>\n",
              "    </tr>\n",
              "    <tr>\n",
              "      <th>3</th>\n",
              "      <td>-0.203628</td>\n",
              "      <td>-0.470349</td>\n",
              "      <td>0.336952</td>\n",
              "      <td>-5.692906</td>\n",
              "      <td>0.373438</td>\n",
              "      <td>0.238153</td>\n",
              "      <td>0.217994</td>\n",
              "      <td>99.335238</td>\n",
              "      <td>1.213188</td>\n",
              "      <td>-0.284212</td>\n",
              "      <td>0.413697</td>\n",
              "      <td>0.243827</td>\n",
              "    </tr>\n",
              "    <tr>\n",
              "      <th>4</th>\n",
              "      <td>2.273745</td>\n",
              "      <td>0.879831</td>\n",
              "      <td>0.619633</td>\n",
              "      <td>-1.094633</td>\n",
              "      <td>1.201717</td>\n",
              "      <td>2.630817</td>\n",
              "      <td>0.405013</td>\n",
              "      <td>188.587138</td>\n",
              "      <td>-1.113030</td>\n",
              "      <td>1.268726</td>\n",
              "      <td>2.091436</td>\n",
              "      <td>0.576812</td>\n",
              "    </tr>\n",
              "    <tr>\n",
              "      <th>5</th>\n",
              "      <td>-0.633335</td>\n",
              "      <td>0.170320</td>\n",
              "      <td>-0.791178</td>\n",
              "      <td>-0.241404</td>\n",
              "      <td>-0.248914</td>\n",
              "      <td>1.754049</td>\n",
              "      <td>0.153284</td>\n",
              "      <td>66.735782</td>\n",
              "      <td>0.375529</td>\n",
              "      <td>0.465945</td>\n",
              "      <td>-0.451788</td>\n",
              "      <td>0.326025</td>\n",
              "    </tr>\n",
              "    <tr>\n",
              "      <th>6</th>\n",
              "      <td>0.131392</td>\n",
              "      <td>0.687508</td>\n",
              "      <td>0.266910</td>\n",
              "      <td>0.070160</td>\n",
              "      <td>0.388083</td>\n",
              "      <td>1.310584</td>\n",
              "      <td>-0.048282</td>\n",
              "      <td>29.822576</td>\n",
              "      <td>13.199492</td>\n",
              "      <td>0.220621</td>\n",
              "      <td>0.187446</td>\n",
              "      <td>-0.145613</td>\n",
              "    </tr>\n",
              "  </tbody>\n",
              "</table>\n",
              "</div>"
            ],
            "text/plain": [
              "   diff_Calories  diff_Pedometer  ...  diff_mental  diff_social\n",
              "1      -8.047892        0.508501  ...     0.428564    -3.928791\n",
              "2      -0.326117        0.610654  ...     0.706119     0.435122\n",
              "3      -0.203628       -0.470349  ...     0.413697     0.243827\n",
              "4       2.273745        0.879831  ...     2.091436     0.576812\n",
              "5      -0.633335        0.170320  ...    -0.451788     0.326025\n",
              "6       0.131392        0.687508  ...     0.187446    -0.145613\n",
              "\n",
              "[6 rows x 12 columns]"
            ]
          },
          "metadata": {},
          "execution_count": 8
        }
      ]
    },
    {
      "cell_type": "code",
      "metadata": {
        "colab": {
          "base_uri": "https://localhost:8080/"
        },
        "id": "njQ5BxntcR5s",
        "outputId": "478f297e-a035-4382-8914-deb65eae6333"
      },
      "source": [
        "overall_change_ratio_week = overall_change_ratio.mean(axis=0)\n",
        "overall_change_ratio_week"
      ],
      "execution_count": null,
      "outputs": [
        {
          "output_type": "execute_result",
          "data": {
            "text/plain": [
              "diff_Calories      -1.134306\n",
              "diff_Pedometer      0.397744\n",
              "diff_Valence        0.195126\n",
              "diff_Arousal       -2.401512\n",
              "diff_Attention      0.467737\n",
              "diff_Stress         1.144912\n",
              "diff_calllog        1.661010\n",
              "diff_messagelog    63.624282\n",
              "diff_snsprop        2.116026\n",
              "diff_physical       0.226149\n",
              "diff_mental         0.562579\n",
              "diff_social        -0.415436\n",
              "dtype: float64"
            ]
          },
          "metadata": {},
          "execution_count": 13
        }
      ]
    },
    {
      "cell_type": "code",
      "metadata": {
        "colab": {
          "base_uri": "https://localhost:8080/",
          "height": 100
        },
        "id": "ns0XJ0-Pw_qY",
        "outputId": "8d2b83f7-e10e-474f-fb44-b5d0df0d2722"
      },
      "source": [
        "social_df"
      ],
      "execution_count": null,
      "outputs": [
        {
          "output_type": "execute_result",
          "data": {
            "text/html": [
              "<div>\n",
              "<style scoped>\n",
              "    .dataframe tbody tr th:only-of-type {\n",
              "        vertical-align: middle;\n",
              "    }\n",
              "\n",
              "    .dataframe tbody tr th {\n",
              "        vertical-align: top;\n",
              "    }\n",
              "\n",
              "    .dataframe thead th {\n",
              "        text-align: right;\n",
              "    }\n",
              "</style>\n",
              "<table border=\"1\" class=\"dataframe\">\n",
              "  <thead>\n",
              "    <tr style=\"text-align: right;\">\n",
              "      <th></th>\n",
              "      <th>Total</th>\n",
              "      <th>others_calllog</th>\n",
              "      <th>others_messagelog</th>\n",
              "      <th>others_phonelog</th>\n",
              "      <th>others_snslog</th>\n",
              "      <th>others_snsprop</th>\n",
              "      <th>others_calllog_std</th>\n",
              "      <th>others_messagelog_std</th>\n",
              "      <th>others_phonelog_std</th>\n",
              "      <th>others_snslog_std</th>\n",
              "      <th>others_snsprop_std</th>\n",
              "      <th>p3012_calllog</th>\n",
              "      <th>p3012_messagelog</th>\n",
              "      <th>p3012_phonelog</th>\n",
              "      <th>p3012_snslog</th>\n",
              "      <th>p3012_snsprop</th>\n",
              "      <th>z_calllog</th>\n",
              "      <th>z_messagelog</th>\n",
              "      <th>z_phonelog</th>\n",
              "      <th>z_snslog</th>\n",
              "      <th>z_snsprop</th>\n",
              "      <th>z_social</th>\n",
              "    </tr>\n",
              "  </thead>\n",
              "  <tbody>\n",
              "    <tr>\n",
              "      <th>0</th>\n",
              "      <td>0</td>\n",
              "      <td>67.4</td>\n",
              "      <td>5.0</td>\n",
              "      <td>2.124284e+07</td>\n",
              "      <td>6.362698e+06</td>\n",
              "      <td>0.292327</td>\n",
              "      <td>149.495662</td>\n",
              "      <td>8.612576</td>\n",
              "      <td>1.396027e+07</td>\n",
              "      <td>4.568220e+06</td>\n",
              "      <td>0.204208</td>\n",
              "      <td>49.428571</td>\n",
              "      <td>11.857143</td>\n",
              "      <td>2.274157e+07</td>\n",
              "      <td>5.285427e+06</td>\n",
              "      <td>0.272797</td>\n",
              "      <td>-0.120214</td>\n",
              "      <td>0.796178</td>\n",
              "      <td>0.107356</td>\n",
              "      <td>-0.235819</td>\n",
              "      <td>-0.095637</td>\n",
              "      <td>0.193443</td>\n",
              "    </tr>\n",
              "  </tbody>\n",
              "</table>\n",
              "</div>"
            ],
            "text/plain": [
              "   Total  others_calllog  others_messagelog  ...  z_snslog  z_snsprop  z_social\n",
              "0      0            67.4                5.0  ... -0.235819  -0.095637  0.193443\n",
              "\n",
              "[1 rows x 22 columns]"
            ]
          },
          "metadata": {},
          "execution_count": 25
        }
      ]
    },
    {
      "cell_type": "code",
      "metadata": {
        "colab": {
          "base_uri": "https://localhost:8080/",
          "height": 328
        },
        "id": "R05VTBk5xB3h",
        "outputId": "c8516479-a2c9-4eba-8d2c-2871f2d97d8c"
      },
      "source": [
        "# physical\n",
        "calories = pd.concat([physical_df['p3012_Calories'], physical_df['others_Calories'], physical_df['z_Calories']], axis=1, keys=['p3012', 'others', 'z_score'])\n",
        "pedometer = pd.concat([physical_df['p3012_Pedometer'], physical_df['others_Pedometer'], physical_df['z_Pedometer']], axis=1, keys=['p3012', 'others', 'z_score'])\n",
        "\n",
        "# mental\n",
        "valence = pd.concat([mental_df['p3012_Valence'], mental_df['others_Valence'], mental_df['z_Valence']], axis=1, keys=['p3012', 'others', 'z_score'])\n",
        "arousal = pd.concat([mental_df['p3012_Arousal'], mental_df['others_Arousal'], mental_df['z_Arousal']], axis=1, keys=['p3012', 'others', 'z_score'])\n",
        "attention = pd.concat([mental_df['p3012_Attention'], mental_df['others_Attention'], mental_df['z_Attention']], axis=1, keys=['p3012', 'others', 'z_score'])\n",
        "stress = pd.concat([mental_df['p3012_Stress'], mental_df['others_Stress'], mental_df['z_Stress']], axis=1, keys=['p3012', 'others', 'z_score'])\n",
        "\n",
        "# social\n",
        "calllog = pd.concat([social_df['p3012_calllog'], social_df['others_calllog'], social_df['z_calllog']], axis=1, keys=['p3012', 'others', 'z_score'])\n",
        "messagelog = pd.concat([social_df['p3012_messagelog'], social_df['others_messagelog'], social_df['z_messagelog']], axis=1, keys=['p3012', 'others', 'z_score'])\n",
        "snsprop = pd.concat([social_df['p3012_snsprop'], social_df['others_snsprop'], social_df['z_snsprop']], axis=1, keys=['p3012', 'others', 'z_score'])\n",
        "\n",
        "# # physical\n",
        "# calories = pd.concat((calories, s.rename('Calories')), axis=1)\n",
        "# pedometer = pd.concat((pedometer, s.rename('Pedometer')), axis=1)\n",
        "\n",
        "# # mental\n",
        "# valence = pd.concat((valence, s.rename('Valence')), axis=1)\n",
        "# arousal = pd.concat((arousal, s.rename('Arousal')), axis=1)\n",
        "# attention = pd.concat((attention, s.rename('Attention')), axis=1)\n",
        "# stress = pd.concat((stress, s.rename('Stress')), axis=1)\n",
        "\n",
        "# # social\n",
        "# calllog = pd.concat((calllog, s.rename('Call log')), axis=1)\n",
        "# messagelog = pd.concat((messagelog, s.rename('Message log')), axis=1)\n",
        "# snsprop = pd.concat((snsprop, s.rename('Sns prop')), axis=1)\n",
        "\n",
        "overall_df = pd.concat([calories, pedometer, valence, arousal, attention, stress, calllog, messagelog, snsprop], axis=0)\n",
        "overall_df.index = ['Calories', 'Pedometer', 'Valence', 'Arousal', 'Attention', 'Stress', 'Call Log', 'Message Log', 'Sns Prop'] \n",
        "\n",
        "overall_df = overall_df.sort_values(by = ['z_score'], ascending=False)\n",
        "overall_df"
      ],
      "execution_count": null,
      "outputs": [
        {
          "output_type": "execute_result",
          "data": {
            "text/html": [
              "<div>\n",
              "<style scoped>\n",
              "    .dataframe tbody tr th:only-of-type {\n",
              "        vertical-align: middle;\n",
              "    }\n",
              "\n",
              "    .dataframe tbody tr th {\n",
              "        vertical-align: top;\n",
              "    }\n",
              "\n",
              "    .dataframe thead th {\n",
              "        text-align: right;\n",
              "    }\n",
              "</style>\n",
              "<table border=\"1\" class=\"dataframe\">\n",
              "  <thead>\n",
              "    <tr style=\"text-align: right;\">\n",
              "      <th></th>\n",
              "      <th>p3012</th>\n",
              "      <th>others</th>\n",
              "      <th>z_score</th>\n",
              "    </tr>\n",
              "  </thead>\n",
              "  <tbody>\n",
              "    <tr>\n",
              "      <th>Message Log</th>\n",
              "      <td>11.857143</td>\n",
              "      <td>5.000000</td>\n",
              "      <td>0.796178</td>\n",
              "    </tr>\n",
              "    <tr>\n",
              "      <th>Arousal</th>\n",
              "      <td>0.257354</td>\n",
              "      <td>-0.203452</td>\n",
              "      <td>0.462648</td>\n",
              "    </tr>\n",
              "    <tr>\n",
              "      <th>Valence</th>\n",
              "      <td>0.725314</td>\n",
              "      <td>0.731737</td>\n",
              "      <td>-0.009321</td>\n",
              "    </tr>\n",
              "    <tr>\n",
              "      <th>Pedometer</th>\n",
              "      <td>3514.135689</td>\n",
              "      <td>3593.596835</td>\n",
              "      <td>-0.038146</td>\n",
              "    </tr>\n",
              "    <tr>\n",
              "      <th>Sns Prop</th>\n",
              "      <td>0.272797</td>\n",
              "      <td>0.292327</td>\n",
              "      <td>-0.095637</td>\n",
              "    </tr>\n",
              "    <tr>\n",
              "      <th>Call Log</th>\n",
              "      <td>49.428571</td>\n",
              "      <td>67.400000</td>\n",
              "      <td>-0.120214</td>\n",
              "    </tr>\n",
              "    <tr>\n",
              "      <th>Calories</th>\n",
              "      <td>1276.141328</td>\n",
              "      <td>1306.380464</td>\n",
              "      <td>-0.139531</td>\n",
              "    </tr>\n",
              "    <tr>\n",
              "      <th>Attention</th>\n",
              "      <td>-0.282349</td>\n",
              "      <td>0.003245</td>\n",
              "      <td>-0.318304</td>\n",
              "    </tr>\n",
              "    <tr>\n",
              "      <th>Stress</th>\n",
              "      <td>0.162183</td>\n",
              "      <td>0.720111</td>\n",
              "      <td>-0.555602</td>\n",
              "    </tr>\n",
              "  </tbody>\n",
              "</table>\n",
              "</div>"
            ],
            "text/plain": [
              "                   p3012       others   z_score\n",
              "Message Log    11.857143     5.000000  0.796178\n",
              "Arousal         0.257354    -0.203452  0.462648\n",
              "Valence         0.725314     0.731737 -0.009321\n",
              "Pedometer    3514.135689  3593.596835 -0.038146\n",
              "Sns Prop        0.272797     0.292327 -0.095637\n",
              "Call Log       49.428571    67.400000 -0.120214\n",
              "Calories     1276.141328  1306.380464 -0.139531\n",
              "Attention      -0.282349     0.003245 -0.318304\n",
              "Stress          0.162183     0.720111 -0.555602"
            ]
          },
          "metadata": {},
          "execution_count": 50
        }
      ]
    },
    {
      "cell_type": "code",
      "metadata": {
        "colab": {
          "base_uri": "https://localhost:8080/",
          "height": 17
        },
        "id": "2zkiPOX2yCrW",
        "outputId": "fc36dfc2-f084-46cd-ca56-1b28f579927b"
      },
      "source": [
        "overall_df.to_json(\"overall_cmp.json\")\n",
        "overall_df.to_csv(\"overall_cmp.csv\")\n",
        "from google.colab import files\n",
        "files.download(\"overall_cmp.json\")\n",
        "files.download(\"overall_cmp.csv\")"
      ],
      "execution_count": null,
      "outputs": [
        {
          "output_type": "display_data",
          "data": {
            "application/javascript": [
              "\n",
              "    async function download(id, filename, size) {\n",
              "      if (!google.colab.kernel.accessAllowed) {\n",
              "        return;\n",
              "      }\n",
              "      const div = document.createElement('div');\n",
              "      const label = document.createElement('label');\n",
              "      label.textContent = `Downloading \"${filename}\": `;\n",
              "      div.appendChild(label);\n",
              "      const progress = document.createElement('progress');\n",
              "      progress.max = size;\n",
              "      div.appendChild(progress);\n",
              "      document.body.appendChild(div);\n",
              "\n",
              "      const buffers = [];\n",
              "      let downloaded = 0;\n",
              "\n",
              "      const channel = await google.colab.kernel.comms.open(id);\n",
              "      // Send a message to notify the kernel that we're ready.\n",
              "      channel.send({})\n",
              "\n",
              "      for await (const message of channel.messages) {\n",
              "        // Send a message to notify the kernel that we're ready.\n",
              "        channel.send({})\n",
              "        if (message.buffers) {\n",
              "          for (const buffer of message.buffers) {\n",
              "            buffers.push(buffer);\n",
              "            downloaded += buffer.byteLength;\n",
              "            progress.value = downloaded;\n",
              "          }\n",
              "        }\n",
              "      }\n",
              "      const blob = new Blob(buffers, {type: 'application/binary'});\n",
              "      const a = document.createElement('a');\n",
              "      a.href = window.URL.createObjectURL(blob);\n",
              "      a.download = filename;\n",
              "      div.appendChild(a);\n",
              "      a.click();\n",
              "      div.remove();\n",
              "    }\n",
              "  "
            ],
            "text/plain": [
              "<IPython.core.display.Javascript object>"
            ]
          },
          "metadata": {}
        },
        {
          "output_type": "display_data",
          "data": {
            "application/javascript": [
              "download(\"download_a6383b46-83d3-4350-b241-95d92e309340\", \"overall_cmp.json\", 689)"
            ],
            "text/plain": [
              "<IPython.core.display.Javascript object>"
            ]
          },
          "metadata": {}
        },
        {
          "output_type": "display_data",
          "data": {
            "application/javascript": [
              "\n",
              "    async function download(id, filename, size) {\n",
              "      if (!google.colab.kernel.accessAllowed) {\n",
              "        return;\n",
              "      }\n",
              "      const div = document.createElement('div');\n",
              "      const label = document.createElement('label');\n",
              "      label.textContent = `Downloading \"${filename}\": `;\n",
              "      div.appendChild(label);\n",
              "      const progress = document.createElement('progress');\n",
              "      progress.max = size;\n",
              "      div.appendChild(progress);\n",
              "      document.body.appendChild(div);\n",
              "\n",
              "      const buffers = [];\n",
              "      let downloaded = 0;\n",
              "\n",
              "      const channel = await google.colab.kernel.comms.open(id);\n",
              "      // Send a message to notify the kernel that we're ready.\n",
              "      channel.send({})\n",
              "\n",
              "      for await (const message of channel.messages) {\n",
              "        // Send a message to notify the kernel that we're ready.\n",
              "        channel.send({})\n",
              "        if (message.buffers) {\n",
              "          for (const buffer of message.buffers) {\n",
              "            buffers.push(buffer);\n",
              "            downloaded += buffer.byteLength;\n",
              "            progress.value = downloaded;\n",
              "          }\n",
              "        }\n",
              "      }\n",
              "      const blob = new Blob(buffers, {type: 'application/binary'});\n",
              "      const a = document.createElement('a');\n",
              "      a.href = window.URL.createObjectURL(blob);\n",
              "      a.download = filename;\n",
              "      div.appendChild(a);\n",
              "      a.click();\n",
              "      div.remove();\n",
              "    }\n",
              "  "
            ],
            "text/plain": [
              "<IPython.core.display.Javascript object>"
            ]
          },
          "metadata": {}
        },
        {
          "output_type": "display_data",
          "data": {
            "application/javascript": [
              "download(\"download_482d5da5-3a8b-4172-a397-3dd0546a2505\", \"overall_cmp.csv\", 602)"
            ],
            "text/plain": [
              "<IPython.core.display.Javascript object>"
            ]
          },
          "metadata": {}
        }
      ]
    },
    {
      "cell_type": "code",
      "metadata": {
        "id": "IKfoZBBO4-QO"
      },
      "source": [
        ""
      ],
      "execution_count": null,
      "outputs": []
    }
  ]
}